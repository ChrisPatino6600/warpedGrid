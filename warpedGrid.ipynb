{
 "cells": [
  {
   "cell_type": "markdown",
   "id": "088d3d15",
   "metadata": {},
   "source": [
    "# Instructions\n",
    "Run each of the following cells in order to generate an svg of a warped grid puzzle. <br/>\n",
    "If you change any parameters, rerun the algorithm for generating the puzzle. <br/>\n",
    "If you change the transformation, you only have to rerun the cell for plotting. "
   ]
  },
  {
   "cell_type": "code",
   "execution_count": 27,
   "id": "052daba7",
   "metadata": {
    "trusted": true
   },
   "outputs": [],
   "source": [
    "# Libraries used\n",
    "import matplotlib.pyplot as plt\n",
    "import numpy as np\n",
    "import random"
   ]
  },
  {
   "cell_type": "code",
   "execution_count": 28,
   "id": "e64c54df",
   "metadata": {
    "trusted": true
   },
   "outputs": [],
   "source": [
    "# Parameters\n",
    "nIts = 200\n",
    "partitionCountHor = 1\n",
    "partitionCountVert = 1\n",
    "graphWidth = partitionCountHor*6\n",
    "graphHeight = partitionCountVert*6"
   ]
  },
  {
   "cell_type": "code",
   "execution_count": null,
   "id": "897cdf2b",
   "metadata": {
    "trusted": true
   },
   "outputs": [],
   "source": [
    "# The contents of this cell should only be edited if you are trying to make changes to the algorithm that generates the puzzle. \n",
    "\n",
    "# Returns whether a piece is adjacent to another partition\n",
    "def interiorPiece(partition, eater):\n",
    "    return leftInterior(partition, eater) and rightInterior(partition, eater) and topInterior(partition,eater) and botInterior(partition,eater)\n",
    "\n",
    "def leftInterior(partition, eater):\n",
    "    return [eater[0]-1,eater[1]] in partition or eater[0]==0\n",
    "\n",
    "def rightInterior(partition, eater):\n",
    "    return [eater[0]+1,eater[1]] in partition or eater[0]==graphWidth-1\n",
    "\n",
    "def topInterior(partition, eater):\n",
    "    return [eater[0],eater[1]+1] in partition or eater[1]==graphHeight-1\n",
    "\n",
    "def botInterior(partition, eater):\n",
    "    return [eater[0],eater[1]-1] in partition or eater[1]==0\n",
    "\n",
    "# Returns whether a piece is adjacent to the boundary of the entire puzzle.\n",
    "# This is used to keep the partitions on the boundary from eating partitions too much\n",
    "def boundaryPiece(eater):\n",
    "    return eater[0]==graphWidth or eater[0]==0 or eater[1]==graphHeight-1 or eater[1]==0\n",
    "\n",
    "# Returns whether the piece attempting to be eaten falls within the boundary of the entire puzzle. \n",
    "def eatenNotInRange(eaten):\n",
    "    return eaten[0] < 0 or eaten[1] < 0 or \\\n",
    "           eaten[0] > graphWidth-1 or eaten[1] > graphHeight -1\n",
    "\n",
    "# Using a local check, this returns whether eating a given piece will break a partition into two \n",
    "# nonconnected regions. \n",
    "def noBreak(eatenPartition, eaten):\n",
    "\n",
    "    # Protects pieces from getting too small\n",
    "    if len(eatenPartition) < 6:\n",
    "        return False\n",
    "    \n",
    "    UL = [eaten[0]-1,eaten[1]+1] in eatenPartition\n",
    "    U =  [eaten[0],eaten[1]+1] in eatenPartition\n",
    "    UR = [eaten[0]+1,eaten[1]+1] in eatenPartition\n",
    "    L =  [eaten[0]-1,eaten[1]] in eatenPartition\n",
    "    R =  [eaten[0]+1,eaten[1]] in eatenPartition\n",
    "    BL = [eaten[0]-1,eaten[1]-1] in eatenPartition\n",
    "    B =  [eaten[0],eaten[1]-1] in eatenPartition\n",
    "    BR = [eaten[0]+1,eaten[1]-1] in eatenPartition\n",
    "\n",
    "    topRowAllIn   = UL and U and UR \n",
    "    botRowAllIn   = BL and B and BR \n",
    "    leftColAllIn  = UL and L and BL \n",
    "    rightColAllIn = UR and R and BR \n",
    "    topRowAllGone   = not(UL or U or UR )\n",
    "    botRowAllGone   = not(BL or B or BR )\n",
    "    leftColAllGone  = not(UL or L or BL )\n",
    "    rightColAllGone = not(UR or R or BR )\n",
    "    \n",
    "    # exceptions:\n",
    "    square = (topRowAllGone and leftColAllGone and BR) or \\\n",
    "             (topRowAllGone and rightColAllGone and BL) or \\\n",
    "             (botRowAllGone and leftColAllGone and UR) or \\\n",
    "             (botRowAllGone and rightColAllGone and UL)\n",
    "    \n",
    "    tPiece = (topRowAllGone and not L and not R and B) or \\\n",
    "             (botRowAllGone and not L and not R and U) or \\\n",
    "             (leftColAllGone and not U and not B and R) or \\\n",
    "             (rightColAllGone and not U and not B and L)\n",
    "    \n",
    "    rectPiece = (botRowAllIn and   L and R) or \\\n",
    "                (topRowAllIn and   L and R) or \\\n",
    "                (rightColAllIn and U and B) or \\\n",
    "                (leftColAllIn and  U and B)\n",
    "    \n",
    "    lPiece = (topRowAllGone and leftColAllGone and not BR and B and R) or \\\n",
    "             (topRowAllGone and rightColAllGone and not BL and B and L) or \\\n",
    "             (botRowAllGone and leftColAllGone and not UR and U and R) or \\\n",
    "             (botRowAllGone and rightColAllGone and not UL and U and L)\n",
    "\n",
    "    if lPiece:\n",
    "        return False\n",
    "    \n",
    "    if square or tPiece or rectPiece:\n",
    "        return True\n",
    "    \n",
    "    # rule:\n",
    "    if (not topRowAllIn and not botRowAllIn and not leftColAllGone and not rightColAllGone) or \\\n",
    "       (not leftColAllIn and not rightColAllIn and not topRowAllGone and not botRowAllGone):\n",
    "        return False\n",
    "\n",
    "    return True\n",
    "\n",
    "# checks whether a square will be made in the partition of the eater by eating\n",
    "def noSquare(partition, eaten):\n",
    "    UL = [eaten[0]-1,eaten[1]+1] in partition\n",
    "    U =  [eaten[0],eaten[1]+1] in partition\n",
    "    UR = [eaten[0]+1,eaten[1]+1] in partition\n",
    "    L =  [eaten[0]-1,eaten[1]] in partition\n",
    "    R =  [eaten[0]+1,eaten[1]] in partition\n",
    "    BL = [eaten[0]-1,eaten[1]-1] in partition\n",
    "    B =  [eaten[0],eaten[1]-1] in partition\n",
    "    BR = [eaten[0]+1,eaten[1]-1] in partition\n",
    "    topRowAllGone   = not(UL or U or UR )\n",
    "    botRowAllGone   = not(BL or B or BR )\n",
    "    leftColAllGone  = not(UL or L or BL )\n",
    "    rightColAllGone = not(UR or R or BR )\n",
    "\n",
    "    return not (R and BR and B) and \\\n",
    "           not (L and BL and L) and \\\n",
    "           not (R and UR and U) and \\\n",
    "           not (L and UL and U)\n",
    "# End functions\n",
    "\n",
    "def generatePuzzle(partitionCountHor, partitionCountVert, graphWidth, graphHeight, nIts):\n",
    "    # Generates rectangular partitions\n",
    "    partitionWidth = int(graphWidth/partitionCountHor)\n",
    "    partitionHeight = int(graphHeight/partitionCountVert)\n",
    "    partitions = []\n",
    "    \n",
    "    for i in range(partitionCountHor):\n",
    "        for j in range(partitionCountVert):\n",
    "            x,y =np.meshgrid(np.array(list(range(partitionWidth)))+i*partitionWidth,np.array(list(range(partitionHeight)))+j*partitionHeight)\n",
    "            partitions.append(list(zip(x.ravel(),y.ravel())))\n",
    "    \n",
    "    # Sets coordinates in partitions as lists.  The above populates coordinates at tuples,\n",
    "    # which make slice indexing difficult. \n",
    "    for partition in partitions:\n",
    "        for i in range(len(partition)):\n",
    "            partition[i] = list(partition[i])\n",
    "            \n",
    "    # return if there is only one partition\n",
    "    if(len(partitions) == 1):\n",
    "        return partitions\n",
    "    \n",
    "    print(\"Progress:\")\n",
    "    # The algorithm for partitions pseudorandomly eating into each other. \n",
    "    for i in range(nIts):\n",
    "        if (i+1) % (nIts//10) == 0:\n",
    "            print(str(i+1)+\"/\"+str(nIts))\n",
    "        for partition in partitions:\n",
    "            eater = partition[random.randint(0,len(partition)-1)]\n",
    "            eatFlag = False \n",
    "            counter = 0\n",
    "            \n",
    "            while not eatFlag and counter < len(partition) and not (eater[0]==graphWidth or eater[0]==0 or eater[1]==graphHeight-1 or eater[1]==0):\n",
    "                \n",
    "                while interiorPiece(partition,eater) and counter < len(partition):\n",
    "                    eater = partition[random.randint(0,len(partition)-1)]\n",
    "            \n",
    "                eatables = [[eater[0]+1,eater[1]],[eater[0]-1,eater[1]],[eater[0],eater[1]+1],[eater[0],eater[1]-1]]\n",
    "    \n",
    "                eaten = eatables[random.randint(0,len(eatables)-1)]\n",
    "                while eatenNotInRange(eaten) or eaten in partition:\n",
    "                    eaten = eatables[random.randint(0,len(eatables)-1)]\n",
    "    \n",
    "                for eatenPartition in partitions:\n",
    "                    if eaten in eatenPartition:\n",
    "                        break\n",
    "    \n",
    "                if noBreak(eatenPartition,eaten) and noSquare(partition,eaten):\n",
    "                    eatenPartition.remove(eaten)\n",
    "                    partition.append(eaten)\n",
    "                    eatFlag = True\n",
    "                counter = counter+1\n",
    "    print(\"Puzzle generated.\")\n",
    "    return partitions"
   ]
  },
  {
   "cell_type": "code",
   "execution_count": 30,
   "id": "14ae33fc",
   "metadata": {
    "trusted": true
   },
   "outputs": [],
   "source": [
    "# Mobius transformation with a squiggle\n",
    "def transformedx(x,y):\n",
    "    centerx = graphWidth/2-.5\n",
    "    centery = graphHeight/2-.5\n",
    "    x = x-centerx\n",
    "    y = y-centery\n",
    "    a ,b ,c ,d  = 2, 0.01, .03, 1\n",
    "\n",
    "    # Transformation in x\n",
    "    x = x+.5*np.cos(1.5*y) #squiggle\n",
    "    x = (a*c*(x**2+y**2)+(a*d+b*c)*x+b*d)/((c*x+d)**2+(c*y)**2) # mobius transformation in x\n",
    "    return x\n",
    "    \n",
    "\n",
    "def transformedy(x,y):\n",
    "    centerx = graphWidth/2-.5\n",
    "    centery = graphHeight/2-.5\n",
    "    x = x-centerx\n",
    "    y = y-centery\n",
    "    a ,b ,c ,d  = 2, 0.01, .03, 1\n",
    "\n",
    "    # Transformation in y\n",
    "    y = ((a*d-b*c)*y)/((c*x+d)**2+(c*y)**2)\n",
    "    return y\n"
   ]
  },
  {
   "cell_type": "code",
   "execution_count": 32,
   "id": "b0dede3a",
   "metadata": {
    "trusted": true
   },
   "outputs": [
    {
     "data": {
      "image/png": "[encoded data removed]",
      "text/plain": [
       "<Figure size 600x600 with 1 Axes>"
      ]
     },
     "metadata": {},
     "output_type": "display_data"
    }
   ],
   "source": [
    "# call function to generate puzzle\n",
    "partitions = generatePuzzle(partitionCountHor, partitionCountVert, graphWidth, graphHeight, nIts)\n",
    "\n",
    "# Plotting\n",
    "plt.figure(figsize=(6,6), dpi=100)\n",
    "for partition in partitions:\n",
    "    for piece in partition:\n",
    "        if not leftInterior(partition, piece):\n",
    "            x = np.linspace(piece[0]-.5,piece[0]-.5,100)\n",
    "            y = np.linspace(piece[1]-.5,piece[1]+.5,100)\n",
    "            plt.plot(transformedx(x,y),transformedy(x,y),color=\"black\",linewidth=1)\n",
    "        if not topInterior(partition, piece):\n",
    "            x = np.linspace(piece[0]-.5,piece[0]+.5,100)\n",
    "            y = np.linspace(piece[1]+.5,piece[1]+.5,100)\n",
    "            plt.plot(transformedx(x,y),transformedy(x,y),color=\"black\",linewidth=1)\n",
    "\n",
    "x = np.linspace(0-.5,0-.5,100)\n",
    "y = np.linspace(0-.5,graphHeight-.5,100)\n",
    "plt.plot(transformedx(x,y),transformedy(x,y),color=\"black\",linewidth=1)\n",
    "\n",
    "x = np.linspace(0-.5,graphWidth-.5,100)\n",
    "y = np.linspace(graphHeight-.5,graphHeight-.5,100)\n",
    "plt.plot(transformedx(x,y),transformedy(x,y),color=\"black\",linewidth=1)\n",
    "\n",
    "\n",
    "x = np.linspace(graphWidth-.5,graphWidth-.5,100)\n",
    "y = np.linspace(graphHeight-.5,0-.5,100)\n",
    "plt.plot(transformedx(x,y),transformedy(x,y),color=\"black\",linewidth=1)\n",
    "\n",
    "\n",
    "x = np.linspace(graphWidth-.5,0-.5,100)\n",
    "y = np.linspace(0-.5,0-.5,100)\n",
    "plt.plot(transformedx(x,y),transformedy(x,y),color=\"black\",linewidth=1)\n",
    "\n",
    "plt.axis(\"off\")\n",
    "plt.show()\n"
   ]
  },
  {
   "cell_type": "code",
   "execution_count": null,
   "id": "f7de4436",
   "metadata": {
    "trusted": true
   },
   "outputs": [],
   "source": [
    "#Run this to save your image\n",
    "#plt.savefig(\"mobiusSquiggle.svg\", format=\"svg\")"
   ]
  },
  {
   "cell_type": "markdown",
   "id": "cb07c4ce",
   "metadata": {},
   "source": [
    "# Additional transformations\n",
    "\n",
    "Try putting together the transformations below to make your own puzzle! <br/>\n",
    "To see what each transformation does, run one of the cells below, and then plot. <br/>\n",
    "If you want to save your puzzle, remember to change the name of the file before saving. "
   ]
  },
  {
   "cell_type": "markdown",
   "id": "93497f9a",
   "metadata": {},
   "source": [
    "Bubble:\n",
    "$$f(x,y)=\\left\\{\\begin{array}{ccc}(1+\\frac{a}b-\\frac{r}b)\\cdot(x,y)&,&r<a\\\\\n",
    "                                   (x,y)&,&r\\geq a\n",
    "                                   \\end{array}\\right.$$\n",
    "where $r=\\sqrt{x^2+y^2}$. <br/>\n",
    "Notice that when $r=a$, $\\frac{a}b-\\frac{r}b=0$, which is necessary for making this function continuous. <br/>\n",
    "The larger $\\frac{a}b$ is, the more \"pushed out\" points near $r=0$ become as a result of this transformation. "
   ]
  },
  {
   "cell_type": "code",
   "execution_count": null,
   "id": "7b0a5fcc",
   "metadata": {
    "trusted": true
   },
   "outputs": [],
   "source": [
    "# Bubble\n",
    "def transformedx(x,y):\n",
    "    centerx = graphWidth/2-.5\n",
    "    centery = graphHeight/2-.5\n",
    "    x = x-centerx\n",
    "    y = y-centery\n",
    "    r = np.sqrt(x**2+y**2)\n",
    "\n",
    "    # Transformation in x\n",
    "    # Weird stuff happens to the puzzle when cutoff > curviness\n",
    "    cutoff = 14\n",
    "    curviness = 15 # the closer this is to the cutoff, the more curvy\n",
    "    return x*(1+cutoff/curviness-(r/curviness)*(r<cutoff)-(r>=cutoff)*cutoff/curviness)\n",
    "    \n",
    "\n",
    "def transformedy(x,y):\n",
    "    centerx = graphWidth/2-.5\n",
    "    centery = graphHeight/2-.5\n",
    "    x = x-centerx\n",
    "    y = y-centery\n",
    "    r = np.sqrt(x**2+y**2)\n",
    "\n",
    "    # Transformation in y\n",
    "    # Weird stuff happens to the puzzle when cutoff > curviness\n",
    "    cutoff = 14\n",
    "    curviness = 15 # the closer this is to the cutoff, the more curvy\n",
    "    return y*(1+cutoff/curviness-(r/curviness)*(r<cutoff)-(r>=cutoff)*cutoff/curviness)\n"
   ]
  },
  {
   "cell_type": "markdown",
   "id": "563f1db5",
   "metadata": {},
   "source": [
    "Reverse Bubble:\n",
    "$$f(x,y)=\\left\\{\\begin{array}{ccc}\\frac{(x,y)}{1+\\frac{a}b-\\frac{r}b}&,&r<a\\\\\n",
    "                                   (x,y)&,&r\\geq a\n",
    "                                   \\end{array}\\right.$$\n",
    "where $r=\\sqrt{x^2+y^2}$. <br/>\n",
    "This is the same as the bubble transformation, except we divide $1+\\frac{a}b-\\frac{r}b$ instead of multiplying it. "
   ]
  },
  {
   "cell_type": "code",
   "execution_count": null,
   "id": "3230ca16",
   "metadata": {
    "trusted": true
   },
   "outputs": [],
   "source": [
    "# Reverse bubble\n",
    "def transformedx(x,y):\n",
    "    centerx = graphWidth/2-.5\n",
    "    centery = graphHeight/2-.5\n",
    "    x = x-centerx\n",
    "    y = y-centery\n",
    "    r = np.sqrt(x**2+y**2)\n",
    "\n",
    "    # Transformation in x\n",
    "    # Weird stuff happens to the puzzle when cutoff > curviness\n",
    "    cutoff = 14\n",
    "    curviness = 14.1 # the lower this variable, the more curvy\n",
    "    return x/(1+cutoff/curviness-(r/curviness)*(r<cutoff)-(r>=cutoff)*cutoff/curviness)\n",
    "    \n",
    "\n",
    "def transformedy(x,y):\n",
    "    centerx = graphWidth/2-.5\n",
    "    centery = graphHeight/2-.5\n",
    "    x = x-centerx\n",
    "    y = y-centery\n",
    "    r = np.sqrt(x**2+y**2)\n",
    "\n",
    "    # Transformation in y\n",
    "    # Weird stuff happens to the puzzle when cutoff > curviness\n",
    "    cutoff = 14\n",
    "    curviness = 14.1 # the lower this variable, the more curvy\n",
    "    return y/(1+cutoff/curviness-(r/curviness)*(r<cutoff)-(r>=cutoff)*cutoff/curviness)\n"
   ]
  },
  {
   "cell_type": "markdown",
   "id": "ca6da392",
   "metadata": {},
   "source": [
    "Squiggles:\n",
    "$$f(x,y)=(x+a\\cos(by),y+c\\cos(dx))$$\n",
    "Varying $a$ and $c$ change the amplitude of the squiggles, and varying $b$ and $d$ change the frequencies. "
   ]
  },
  {
   "cell_type": "code",
   "execution_count": null,
   "id": "4915e6b5",
   "metadata": {
    "trusted": true
   },
   "outputs": [],
   "source": [
    "# Squiggles\n",
    "def transformedx(x,y):\n",
    "    centerx = graphWidth/2-.5\n",
    "    centery = graphHeight/2-.5\n",
    "    x = x-centerx\n",
    "    y = y-centery\n",
    "\n",
    "    return x+.5*np.cos(y)\n",
    "    \n",
    "\n",
    "def transformedy(x,y):\n",
    "    centerx = graphWidth/2-.5\n",
    "    centery = graphHeight/2-.5\n",
    "    x = x-centerx\n",
    "    y = y-centery\n",
    "\n",
    "    return y+.5*np.cos(x/2)\n"
   ]
  },
  {
   "cell_type": "markdown",
   "id": "70277022",
   "metadata": {},
   "source": [
    "Möbius transformation:\n",
    "$$f(z)=\\frac{az+b}{cz+d}$$\n",
    "where $z=x+bi$. <br/>\n",
    "Converting this from complex numbers to cartesian coordinates is complicated, but this has been done in the functions below. <br/>\n",
    "Möbius transformations can be sensitive to their parameters in somewhat unintuitive ways, so keep note of parameter combinations you like. "
   ]
  },
  {
   "cell_type": "code",
   "execution_count": null,
   "id": "ce774d1b",
   "metadata": {
    "trusted": true
   },
   "outputs": [],
   "source": [
    "# Mobius transformation \n",
    "def transformedx(x,y):\n",
    "    centerx = graphWidth/2-.5\n",
    "    centery = graphHeight/2-.5\n",
    "    x = x-centerx\n",
    "    y = y-centery\n",
    "    a ,b ,c ,d  = 2, 0.01, .03, 1\n",
    "\n",
    "    # Transformation in x\n",
    "    x = (a*c*(x**2+y**2)+(a*d+b*c)*x+b*d)/((c*x+d)**2+(c*y)**2) \n",
    "    return x\n",
    "    \n",
    "\n",
    "def transformedy(x,y):\n",
    "    centerx = graphWidth/2-.5\n",
    "    centery = graphHeight/2-.5\n",
    "    x = x-centerx\n",
    "    y = y-centery\n",
    "    a ,b ,c ,d  = 2, 0.01, .03, 1\n",
    "\n",
    "    # Transformation in y\n",
    "    y = ((a*d-b*c)*y)/((c*x+d)**2+(c*y)**2)\n",
    "    return y\n"
   ]
  },
  {
   "cell_type": "markdown",
   "id": "08867495",
   "metadata": {
    "vscode": {
     "languageId": "latex"
    }
   },
   "source": []
  }
 ],
 "metadata": {
  "kernelspec": {
   "display_name": "Python 3 (ipykernel)",
   "language": "python",
   "name": "python3"
  },
  "language_info": {
   "codemirror_mode": {
    "name": "ipython",
    "version": 3
   },
   "file_extension": ".py",
   "mimetype": "text/x-python",
   "name": "python",
   "nbconvert_exporter": "python",
   "pygments_lexer": "ipython3",
   "version": "3.10.16"
  }
 },
 "nbformat": 4,
 "nbformat_minor": 5
}
